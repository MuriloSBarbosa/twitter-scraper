{
 "cells": [
  {
   "cell_type": "markdown",
   "metadata": {},
   "source": [
    "# Twitter Scraping\n",
    "\n",
    "This notebook is a simple example of how to scrape tweets from Twitter using the `twikit` library. "
   ]
  },
  {
   "cell_type": "markdown",
   "metadata": {},
   "source": [
    "#### Main information:\n",
    "- No API key is required;\n",
    "- Is Free to use;\n",
    "- You just need a Twitter account to use it."
   ]
  },
  {
   "cell_type": "markdown",
   "metadata": {},
   "source": [
    "#### References\n",
    "- https://blog.apify.com/how-to-scrape-tweets-and-more-on-twitter-59330e6fb522/\n",
    "- https://github.com/d60/twikit?tab=readme-ov-file#no-api-key-required\n",
    "- https://twikit.readthedocs.io/en/latest/index.html\n"
   ]
  },
  {
   "cell_type": "markdown",
   "metadata": {},
   "source": [
    "### Log in to Twitter"
   ]
  },
  {
   "cell_type": "code",
   "execution_count": 1,
   "metadata": {},
   "outputs": [],
   "source": [
    "from twikit import Client\n",
    "import json\n",
    "import pandas as pd\n",
    "\n",
    "client = Client('en-US')\n",
    "\n",
    "## You can comment this `login` part out after the first time you run the script (and you have the `cookies.json`` file)\n",
    "client.login(auth_info_1='user', password='password')\n",
    "client.save_cookies('cookies.json')\n",
    "client.load_cookies(path='cookies.json')"
   ]
  },
  {
   "cell_type": "markdown",
   "metadata": {},
   "source": [
    "### Searching and filtering tweets"
   ]
  },
  {
   "cell_type": "code",
   "execution_count": 2,
   "metadata": {},
   "outputs": [],
   "source": [
    "num_tweets_to_fetch = 5"
   ]
  },
  {
   "cell_type": "markdown",
   "metadata": {},
   "source": [
    "Search tweets of a specific user"
   ]
  },
  {
   "cell_type": "code",
   "execution_count": 3,
   "metadata": {},
   "outputs": [],
   "source": [
    "user_name = 'BillGates'\n",
    "user = client.get_user_by_screen_name(user_name)\n",
    "tweets = user.get_tweets('Tweets', count=num_tweets_to_fetch)"
   ]
  },
  {
   "cell_type": "markdown",
   "metadata": {},
   "source": [
    "Search tweets with a specific content"
   ]
  },
  {
   "cell_type": "code",
   "execution_count": null,
   "metadata": {},
   "outputs": [],
   "source": [
    "search_input = \"Python x Java\"\n",
    "tweets = client.search_tweet(query=search_input,product='Top', count=num_tweets_to_fetch)"
   ]
  },
  {
   "cell_type": "markdown",
   "metadata": {},
   "source": [
    "### Building tweet dataset"
   ]
  },
  {
   "cell_type": "code",
   "execution_count": 4,
   "metadata": {},
   "outputs": [],
   "source": [
    "tweets_to_store = [];\n",
    "\n",
    "def format_medias(medias) -> list:\n",
    "    if not medias:\n",
    "        return []\n",
    "    urls = []\n",
    "    for media in medias:\n",
    "        if media['type'] == 'video' and 'video_info' in media:\n",
    "            for variant in media['video_info']['variants']:\n",
    "                urls.append(variant['url'])\n",
    "        elif 'media_url_https' in media:\n",
    "            urls.append(media['media_url_https'])\n",
    "    return urls\n",
    "\n",
    "for tweet in tweets:\n",
    "    tweets_to_store.append({\n",
    "        'id': tweet.id,\n",
    "        'created_at': tweet.created_at,\n",
    "        'user': tweet.user.screen_name,\n",
    "        'favorite_count': tweet.favorite_count,\n",
    "        'retweet_count': tweet.retweet_count,\n",
    "        'urls': tweet.urls,\n",
    "        'full_text': tweet.full_text,\n",
    "        'hashtags': tweet.hashtags,\n",
    "        'media': format_medias(tweet.media)\n",
    "    })"
   ]
  },
  {
   "cell_type": "markdown",
   "metadata": {},
   "source": [
    "### Creating DataFrame to export to JSON"
   ]
  },
  {
   "cell_type": "code",
   "execution_count": 5,
   "metadata": {},
   "outputs": [],
   "source": [
    "df = pd.DataFrame(tweets_to_store)\n",
    "df.to_json('tweets.json', orient='records')"
   ]
  },
  {
   "cell_type": "markdown",
   "metadata": {},
   "source": [
    "### Sorting tweets values if necessary"
   ]
  },
  {
   "cell_type": "code",
   "execution_count": null,
   "metadata": {},
   "outputs": [],
   "source": [
    "# Pandas also allows us to sort or filter the data\n",
    "print(df.sort_values(by='favorite_count', ascending=False))\n",
    "\n",
    "# We can also print the data as a JSON object\n",
    "print(json.dumps(tweets_to_store, indent=5))"
   ]
  }
 ],
 "metadata": {
  "kernelspec": {
   "display_name": ".venv",
   "language": "python",
   "name": "python3"
  },
  "language_info": {
   "codemirror_mode": {
    "name": "ipython",
    "version": 3
   },
   "file_extension": ".py",
   "mimetype": "text/x-python",
   "name": "python",
   "nbconvert_exporter": "python",
   "pygments_lexer": "ipython3",
   "version": "3.12.0"
  }
 },
 "nbformat": 4,
 "nbformat_minor": 2
}
